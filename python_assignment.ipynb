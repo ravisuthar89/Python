{
 "cells": [
  {
   "cell_type": "markdown",
   "id": "aee6898f-40e8-451d-95cf-4d5000d78a65",
   "metadata": {},
   "source": [
    "### 1) What are the types of Applications?"
   ]
  },
  {
   "cell_type": "markdown",
   "id": "a8639731-149c-46f8-b678-760fc3df19e0",
   "metadata": {},
   "source": [
    "1. Web Applications\n",
    "2. Desktop GUI Applications\n",
    "3. Web Development \n",
    "4. Machine Learning and Artificial Intelligence \n",
    "5. Data Science \n",
    "6. Game Development \n",
    "7. Audio and Visual Applications "
   ]
  },
  {
   "cell_type": "markdown",
   "id": "b7d0eb09-cddf-44bd-b3cc-af96ba33a980",
   "metadata": {},
   "source": [
    "### 2) What is programing? \n"
   ]
  },
  {
   "cell_type": "markdown",
   "id": "e1f01413-313c-489a-8e13-5f277446c797",
   "metadata": {},
   "source": [
    "Programming is a collaboration between humans and computers, where humans create code that computers can understand."
   ]
  },
  {
   "cell_type": "markdown",
   "id": "ec6fdfcf-065d-4cb7-830e-e101db11fa7f",
   "metadata": {},
   "source": [
    "### 3. What is python?"
   ]
  },
  {
   "cell_type": "markdown",
   "id": "adf72a58-fdf8-42bf-839d-d037ceb3f6f4",
   "metadata": {},
   "source": [
    "Python is a high-level, interpreted, general-purpose programimng language. it supports object oriented programming language. it is simple and easy to learn and provides lots of high-level data structure.it is open source language. it is wide range of libraries and frameworks."
   ]
  },
  {
   "cell_type": "markdown",
   "id": "ad0d92ed-e40d-48da-a5d3-045bf3f4abb0",
   "metadata": {},
   "source": [
    "### 4) Write a Python program to check if a number is positive, negative or zero. "
   ]
  },
  {
   "cell_type": "code",
   "execution_count": 570,
   "id": "6400273f-feb2-4c7c-b9b6-3735c7c92fd1",
   "metadata": {},
   "outputs": [
    {
     "name": "stdin",
     "output_type": "stream",
     "text": [
      "Enter a number: -34\n"
     ]
    },
    {
     "name": "stdout",
     "output_type": "stream",
     "text": [
      "The number is negative.\n"
     ]
    }
   ],
   "source": [
    "num = int(input(\"Enter a number:\"))\n",
    "if num < 0:\n",
    "    print(\"The number is negative.\")\n",
    "elif num > 0:\n",
    "    print(\"the number is positive.\")\n",
    "else: print(\"the number is zero.\")"
   ]
  },
  {
   "cell_type": "markdown",
   "id": "37ad367b-3544-42ce-8d88-b5689ec55d4d",
   "metadata": {},
   "source": [
    "### 5)Write a Python program to get the Factorial number of given numbers. \n"
   ]
  },
  {
   "cell_type": "code",
   "execution_count": null,
   "id": "213abd0e-a8f5-40a6-b0a7-1fc538423db0",
   "metadata": {},
   "outputs": [],
   "source": [
    "num = int(input(\"enter the number:\"))\n",
    "fact = 1\n",
    "for i in range (1,num+1):\n",
    "    fact *= i\n",
    "    i=i+1\n",
    "print(\"factorial:\",fact)    "
   ]
  },
  {
   "cell_type": "markdown",
   "id": "f634a23a-dc21-4a11-8eae-4ca476aebbf3",
   "metadata": {},
   "source": [
    "### 6)Write a Python program to get the Fibonacci series of given range. \n"
   ]
  },
  {
   "cell_type": "code",
   "execution_count": 572,
   "id": "0fa232b3-7778-4557-8134-132066f1b032",
   "metadata": {},
   "outputs": [
    {
     "name": "stdin",
     "output_type": "stream",
     "text": [
      "How many terms?  4\n"
     ]
    },
    {
     "name": "stdout",
     "output_type": "stream",
     "text": [
      "Fibonacci sequence:\n",
      "0\n",
      "1\n",
      "1\n",
      "2\n"
     ]
    }
   ],
   "source": [
    "num = int(input(\"Enter the number of terms: \"))\n",
    "\n",
    "n1, n2 = 0, 1\n",
    "count = 0\n",
    "if num <= 0:\n",
    "   print(\"Please enter a positive integer\")\n",
    "elif num == 1:\n",
    "   print(\"Fibonacci sequence upto\",num,\":\")\n",
    "   print(n1)\n",
    "else:\n",
    "   print(\"Fibonacci sequence:\")\n",
    "   while count < num:\n",
    "       print(n1)\n",
    "       nth = n1 + n2\n",
    "       n1 = n2\n",
    "       n2 = nth\n",
    "       count += 1"
   ]
  },
  {
   "cell_type": "markdown",
   "id": "6be4dcc6-665f-4e42-80a1-9c06070bfe8b",
   "metadata": {},
   "source": [
    "### 7)How memory is managed in Python?"
   ]
  },
  {
   "cell_type": "markdown",
   "id": "fc231d42-7e3f-4029-9d7a-aff8b2dd0e82",
   "metadata": {},
   "source": [
    "You can classify memory management in Python in one of two ways: dynamic allocation or static allocation. Dynamic allocation occurs as the program is running. This means that as the program operates, it can dynamically determine where to allocate memory while reusing and releasing it."
   ]
  },
  {
   "cell_type": "markdown",
   "id": "0194cd38-7ab9-45bb-9bb3-203c47595aa8",
   "metadata": {},
   "source": [
    "### 8) What is the purpose continuing statement in python?\n"
   ]
  },
  {
   "cell_type": "markdown",
   "id": "fc83d9ef-13a2-43d7-a299-1f9c6ebded6a",
   "metadata": {},
   "source": [
    "In Python, the continue statement is used within loops (like for or while) to skip the remaining code in the current iteration and move on to the next iteration."
   ]
  },
  {
   "cell_type": "markdown",
   "id": "ff5725d7-e247-41e2-9197-a1caac99bffe",
   "metadata": {},
   "source": [
    "### 9) Write python program that swap two number with temp variable and without temp variable. \n"
   ]
  },
  {
   "cell_type": "code",
   "execution_count": 602,
   "id": "5480a442-e412-4a1a-b843-0fd493a17c30",
   "metadata": {},
   "outputs": [
    {
     "name": "stdin",
     "output_type": "stream",
     "text": [
      "Enter first number: 55\n",
      "Enter second number: 45\n"
     ]
    },
    {
     "name": "stdout",
     "output_type": "stream",
     "text": [
      "\n",
      "after swap with temp variable\n",
      "the first number: 45\n",
      "the second number: 55\n",
      "\n",
      "after swap without temp variable\n",
      "the first number: 45\n",
      "the second number: 55\n"
     ]
    }
   ],
   "source": [
    "x = a = int(input(\"Enter first number:\"))\n",
    "y = b = int(input(\"Enter second number:\"))\n",
    "\n",
    "c=a\n",
    "a=b\n",
    "b=c\n",
    "print()\n",
    "print(\"after swap with temp variable\")\n",
    "print(\"the first number:\",a)\n",
    "print(\"the second number:\",b)\n",
    "print()\n",
    "\n",
    "x = x+y\n",
    "y = x-y\n",
    "x = x-y\n",
    "print(\"after swap without temp variable\")\n",
    "print(\"the first number:\",x)\n",
    "print(\"the second number:\",y)"
   ]
  },
  {
   "cell_type": "markdown",
   "id": "7963cfb7-7692-41b3-a7d2-270c9ed57c6a",
   "metadata": {},
   "source": [
    "### 10) Write a Python program to find whether a given number is even or odd, print out an appropriate message to the user. \n"
   ]
  },
  {
   "cell_type": "code",
   "execution_count": null,
   "id": "c9ae98a4-38cb-48f6-8c1d-32b8721adc58",
   "metadata": {},
   "outputs": [],
   "source": [
    "num = int(input(\"Enter the number:\"))\n",
    "if num % 2 ==0:\n",
    "        print(\"The number\",num,\"is even.\")\n",
    "else: \n",
    "     print(\"The number\",num,\"is odd.\")"
   ]
  },
  {
   "cell_type": "markdown",
   "id": "a5999bed-8c9c-4322-b99d-9940937ba761",
   "metadata": {},
   "source": [
    "### 11) Write a Python program to test whether a passed letter is a vowel or not."
   ]
  },
  {
   "cell_type": "code",
   "execution_count": null,
   "id": "bc8efca7-fe20-469e-83ea-ff2c8ca07f9d",
   "metadata": {},
   "outputs": [],
   "source": [
    "letter = input(\"Enter a letter:\")\n",
    "if len(letter) == 1:\n",
    "    if letter in \"AaEeIiOoUu\":\n",
    "        print(\"the letter is a vowel\")\n",
    "    else: print(\"the letter is not a vowel\")\n",
    "else: print(\"Please enter a single letter\") "
   ]
  },
  {
   "cell_type": "markdown",
   "id": "6b11d7a2-42e8-4b93-ba89-025947fe9e2d",
   "metadata": {},
   "source": [
    "### 12) Write a Python program to sum of three given integers. However, if two values are equal sum will be zero. "
   ]
  },
  {
   "cell_type": "code",
   "execution_count": null,
   "id": "4bb8052e-ee49-4619-b03b-c0494c2678fb",
   "metadata": {},
   "outputs": [],
   "source": [
    "a = int(input(\"Enter the first integer: \"))\n",
    "b = int(input(\"Enter the second integer: \"))\n",
    "c = int(input(\"Enter the third integer: \"))\n",
    "\n",
    "if a==b or a==c or b==c:\n",
    "    print(\"the result is: 0\")\n",
    "else: print(\"the reslut is:\",a+b+c)"
   ]
  },
  {
   "cell_type": "markdown",
   "id": "e669cc00-7832-46d9-af46-8a408c1c1f10",
   "metadata": {},
   "source": [
    "### 13) Write a Python program that will return true if the two given integer values are equal or their sum difference is 5. "
   ]
  },
  {
   "cell_type": "code",
   "execution_count": null,
   "id": "ff57fc38-bb07-4846-a6d6-c48a7ca5e488",
   "metadata": {},
   "outputs": [],
   "source": [
    "a = int(input(\"Enter the first integer: \"))\n",
    "b = int(input(\"Enter the second integer: \"))\n",
    "\n",
    "if a==b or a-b==5 or b-a==5:\n",
    "    print(\"True\")\n",
    "else: print(\"False\") "
   ]
  },
  {
   "cell_type": "markdown",
   "id": "973d2c30-4189-4557-89b0-336565b9dc3a",
   "metadata": {},
   "source": [
    "### 14)Write a python program to sum of the first n positive integers."
   ]
  },
  {
   "cell_type": "code",
   "execution_count": null,
   "id": "392d41f2-eb5a-48b8-b4ef-b80d4eb67b1b",
   "metadata": {},
   "outputs": [],
   "source": [
    "n = int(input(\"Enter the n number:\"))\n",
    "sum=0\n",
    "for i in range(1,n+1):\n",
    "    sum=sum+i\n",
    "print(\"sum:\",sum)    "
   ]
  },
  {
   "cell_type": "markdown",
   "id": "64c8e3ed-26e5-4ada-b6c5-caaefc337858",
   "metadata": {},
   "source": [
    "### 15)Write a Python program to calculate the length of a string."
   ]
  },
  {
   "cell_type": "code",
   "execution_count": 580,
   "id": "ee1fb288-cffa-473e-9a87-9e8332f8c1f1",
   "metadata": {},
   "outputs": [
    {
     "name": "stdin",
     "output_type": "stream",
     "text": [
      "Enter a string: jfghfghfhg\n"
     ]
    },
    {
     "name": "stdout",
     "output_type": "stream",
     "text": [
      "the length of the string: 10\n"
     ]
    }
   ],
   "source": [
    "string = input(\"Enter a string:\")\n",
    "count=0\n",
    "for i in string:\n",
    "    count=count+1\n",
    "print(\"the length of the string:\",count)"
   ]
  },
  {
   "cell_type": "markdown",
   "id": "3b5bdfef-a9f1-49d0-9a18-f4592bb52a63",
   "metadata": {},
   "source": [
    "### 16) Write a Python program to count the number of characters (character frequency) in a string "
   ]
  },
  {
   "cell_type": "code",
   "execution_count": 596,
   "id": "7109b2cc-b963-41c5-93b0-e797032febad",
   "metadata": {},
   "outputs": [
    {
     "name": "stdin",
     "output_type": "stream",
     "text": [
      "Enter a string: jdjjd djjd dd\n"
     ]
    },
    {
     "name": "stdout",
     "output_type": "stream",
     "text": [
      "{'j': 5, 'd': 6, ' ': 2}\n"
     ]
    }
   ],
   "source": [
    "string = input(\"Enter a string:\").strip()\n",
    "count= {}\n",
    "for i in string:\n",
    "    if i in count:\n",
    "        count[i] += 1\n",
    "    else:\n",
    "        count[i] = 1\n",
    "print(count) "
   ]
  },
  {
   "cell_type": "markdown",
   "id": "c39c1d00-a07b-48e2-84c9-32ed1561be4f",
   "metadata": {},
   "source": [
    "### 17) What are negative indexes and why are they used?"
   ]
  },
  {
   "cell_type": "markdown",
   "id": "98bdccdb-eb7b-421f-9711-3f9a84f1e237",
   "metadata": {},
   "source": [
    "Negative indexes in Python are a powerful feature that allows us to access elements in a list from the end instead of the beginning. This can be particularly useful when dealing with large lists or when we need to access the last few elements without knowing their exact position."
   ]
  },
  {
   "cell_type": "markdown",
   "id": "95eef38e-286a-4e11-aa19-4975920c4870",
   "metadata": {},
   "source": [
    "### 18)Write a Python program to count occurrences of a substring in a string. "
   ]
  },
  {
   "cell_type": "code",
   "execution_count": null,
   "id": "19f599a8-6e59-42d4-9145-5dd67d0485a4",
   "metadata": {},
   "outputs": [],
   "source": [
    "string = input(\"enter the string:\")\n",
    "substr = input(\"enter the substring:\")\n",
    "\n",
    "occur=string.count(substr)\n",
    "print(\"Occurance of a substring '\",substr,\"' is\",occur)"
   ]
  },
  {
   "cell_type": "markdown",
   "id": "e91c752d-acda-4dd7-befc-1e753199bf76",
   "metadata": {},
   "source": [
    "### 19) Write a Python program to count the occurrences of each word in a given sentence"
   ]
  },
  {
   "cell_type": "code",
   "execution_count": null,
   "id": "8f5acfd2-82f5-4156-89ab-b898beef29a9",
   "metadata": {},
   "outputs": [],
   "source": [
    "string = input(\"Enter a string:\").split()\n",
    "count= {}\n",
    "for i in string:\n",
    "    if i in count:\n",
    "        count[i] += 1\n",
    "    else:\n",
    "        count[i] = 1\n",
    "print(count) "
   ]
  },
  {
   "cell_type": "markdown",
   "id": "779f2eda-4219-4088-9aac-2a57634cc39b",
   "metadata": {},
   "source": [
    "### 20) Write a Python program to get a single string from two given strings, separated by a space and swap the first two characters of each string."
   ]
  },
  {
   "cell_type": "code",
   "execution_count": 609,
   "id": "723424aa-f536-45e9-908d-7b7e6efe3832",
   "metadata": {},
   "outputs": [
    {
     "name": "stdin",
     "output_type": "stream",
     "text": [
      "Enter first text:  bob \n",
      "Enter second text:  singh\n"
     ]
    },
    {
     "name": "stdout",
     "output_type": "stream",
     "text": [
      "sib  bongh\n"
     ]
    }
   ],
   "source": [
    "text = input(\"Enter first text: \")\n",
    "text2 = input(\"Enter second text: \")\n",
    "string = text2[:2] + text[2:] + \" \" + text[:2] + text2[2:]\n",
    "print(\"Result:\",string)"
   ]
  },
  {
   "cell_type": "markdown",
   "id": "57240196-639c-48d1-895a-7d2e71441374",
   "metadata": {},
   "source": [
    "### 21) Write a Python program to add 'in' at the end of a given string (length should be at least 3). If the given string already ends with 'ing' then add 'ly' instead if the string length of the given string is less than 3, leave it unchanged."
   ]
  },
  {
   "cell_type": "code",
   "execution_count": null,
   "id": "40e9da35-3157-4813-964c-cfdb6de179b3",
   "metadata": {},
   "outputs": [],
   "source": [
    "text = input(\"Enter the text:\")\n",
    "if len(text) > 3 :\n",
    "    if text[-3:] == \"ing\":\n",
    "        text = text + \"ly\"\n",
    "    print(text)\n",
    "else:\n",
    "    print(text+\"ing\")"
   ]
  },
  {
   "cell_type": "markdown",
   "id": "fb60b293-5d8b-4e12-9710-92b7d726b9b1",
   "metadata": {},
   "source": [
    "### 22)Write a Python function to reverses a string if its length is a multiple of 4."
   ]
  },
  {
   "cell_type": "code",
   "execution_count": 3,
   "id": "2e6736e3-b1d4-4ee0-b501-daf6d6cc78ea",
   "metadata": {},
   "outputs": [
    {
     "name": "stdin",
     "output_type": "stream",
     "text": [
      "enter the sentence: ravi\n"
     ]
    },
    {
     "name": "stdout",
     "output_type": "stream",
     "text": [
      "ivar\n"
     ]
    }
   ],
   "source": [
    "string = input(\"enter a string:\")   \n",
    "if len(string) % 4 == 0:\n",
    "    print(string[::-1])\n",
    "else:\n",
    "    print(string)"
   ]
  },
  {
   "cell_type": "markdown",
   "id": "222b7058-66c9-47c6-a1b5-9dca34aa8844",
   "metadata": {},
   "source": [
    "### 23) Write a Python program to get a string made of the first 2 and the last 2 chars from a given a string. If the string length is less than 2, return instead of the empty string. "
   ]
  },
  {
   "cell_type": "code",
   "execution_count": 12,
   "id": "0aac1dfc-5346-4b2c-9f0d-6e11b81f8bca",
   "metadata": {},
   "outputs": [
    {
     "name": "stdin",
     "output_type": "stream",
     "text": [
      "enter the text: ds\n"
     ]
    },
    {
     "name": "stdout",
     "output_type": "stream",
     "text": [
      "result: \n"
     ]
    }
   ],
   "source": [
    "string = input(\"enter the text:\")\n",
    "\n",
    "print(\"result:\",end = \"\")\n",
    "if len(string) > 2:\n",
    "    print(string[0:2] + string[-2:])\n",
    "else:\n",
    "    print(\" \")"
   ]
  },
  {
   "cell_type": "markdown",
   "id": "41da6163-1cf1-4f59-a195-a2f48ee4fd46",
   "metadata": {},
   "source": [
    "### 24) Write a Python function to insert a string in the middle of a string"
   ]
  },
  {
   "cell_type": "code",
   "execution_count": 16,
   "id": "a291c05f-d700-4982-9237-45019868de01",
   "metadata": {},
   "outputs": [
    {
     "name": "stdin",
     "output_type": "stream",
     "text": [
      "enter first string: ravjdjjjd\n",
      "enter second string: oooooooooo\n"
     ]
    },
    {
     "name": "stdout",
     "output_type": "stream",
     "text": [
      "ravjoooooooooojjjd\n"
     ]
    }
   ],
   "source": [
    "str1 = input(\"enter first string:\")\n",
    "str2 = input(\"enter second string:\")\n",
    "middle = len(str1) // 2\n",
    "print(str1[:middle] + str2 + str1[-middle:]) "
   ]
  },
  {
   "cell_type": "markdown",
   "id": "2d1bbf35-eb6d-4ec3-96c8-3b6201e5c689",
   "metadata": {},
   "source": [
    "### 25)What is List? How will you reverse a list? \n"
   ]
  },
  {
   "cell_type": "markdown",
   "id": "92e3fcc8-bc95-4d38-882b-46970d754b0a",
   "metadata": {},
   "source": [
    "A list in Python is a mutable, ordered collection of elements that can store multiple data types (integers, strings, floats, etc.). Lists allow duplicates and can be modified by adding, removing, or updating elements.\n",
    "\n",
    "The simplest way to reverse a list is by using the reverse() method.\n",
    "Example a = [\"h\",\"e\",\"y\"] a.reverse() print(a) o/p = [\"y\",\"e\",\"h\"]"
   ]
  },
  {
   "cell_type": "markdown",
   "id": "430724bd-fd5d-4383-aa26-2dca975d5901",
   "metadata": {},
   "source": [
    "### 26)How will you remove last object from a list?"
   ]
  },
  {
   "cell_type": "code",
   "execution_count": null,
   "id": "29a499ff-b740-4a2a-bf4b-e1e7061e43d5",
   "metadata": {},
   "outputs": [],
   "source": [
    "lst = [1,2,3,4]\n",
    "lst.pop()\n",
    "lst"
   ]
  },
  {
   "cell_type": "markdown",
   "id": "e3342828-cb6e-4dd4-a974-c95946bd1096",
   "metadata": {},
   "source": [
    "### 27)Suppose list1 is [2, 33, 222, 14, and 25], what is list1 [-1]? "
   ]
  },
  {
   "cell_type": "code",
   "execution_count": null,
   "id": "9c8a09d3-57c5-4641-891c-505a1809931a",
   "metadata": {},
   "outputs": [],
   "source": [
    "list1 = [2,33,222,14,25]\n",
    "print(list1[-1])  #25"
   ]
  },
  {
   "cell_type": "markdown",
   "id": "ba50fa5e-24e4-4bba-bb68-fa39a14f10c7",
   "metadata": {},
   "source": [
    "### 28)Differentiate between append () and extend () methods? \n"
   ]
  },
  {
   "cell_type": "markdown",
   "id": "bae51ce4-cfdb-4c82-a516-8b371d12d692",
   "metadata": {},
   "source": [
    "\n",
    "The append() method adds a single element to the end of a list, while extend() adds multiple elements by merging another iterable.  \n"
   ]
  },
  {
   "cell_type": "markdown",
   "id": "b46e9aa8-c3ec-4398-a73a-a87d4cc65238",
   "metadata": {},
   "source": [
    "### 29) Write a Python function to get the largest number, smallest num and sum of all from a list."
   ]
  },
  {
   "cell_type": "code",
   "execution_count": 22,
   "id": "86cbd977-1192-48ad-9b89-1c83ed1f47e2",
   "metadata": {},
   "outputs": [
    {
     "name": "stdout",
     "output_type": "stream",
     "text": [
      "list: [1, 2, 3, 4, 5]\n",
      "largest number: 5\n",
      "smallest number: 1\n",
      "sum of all number: 15\n"
     ]
    }
   ],
   "source": [
    "lst = [1, 2, 3, 4, 5]\n",
    "print(\"list:\",lst)\n",
    "print(\"largest number:\",max(lst))\n",
    "print(\"smallest number:\",min(lst))\n",
    "print(\"sum of all number:\",sum(lst))"
   ]
  },
  {
   "cell_type": "markdown",
   "id": "1a8214ca-33d7-4a46-9a87-e6ffad2ebcb2",
   "metadata": {},
   "source": [
    "### 30)How will you compare two lists?"
   ]
  },
  {
   "cell_type": "markdown",
   "id": "0152f48f-8011-4720-ad7c-668095addd01",
   "metadata": {},
   "source": [
    "1. Using the \"==\" operator: This checks if the lists have the same elements in the same order. \n",
    "2. Check if Lists Contain the Same Elements (Order Doesn't Matter): Using the set() function: Convert both lists to sets and compare them."
   ]
  },
  {
   "cell_type": "markdown",
   "id": "004b2139-6eff-49e6-820c-6a468eb235f2",
   "metadata": {},
   "source": [
    "### 31) Write a Python program to count the number of strings where the string length is 2 or more and the first and last character are same from a given list  of strings"
   ]
  },
  {
   "cell_type": "code",
   "execution_count": 35,
   "id": "f5dfb6ad-6475-498f-8fde-331956f74d3a",
   "metadata": {},
   "outputs": [
    {
     "name": "stdout",
     "output_type": "stream",
     "text": [
      "count of the strings: 4\n"
     ]
    }
   ],
   "source": [
    "wordl = [\"abc\",\"abba\",\"yyy\",\"alexa\",\"steve\",\"wow\",\"a\"]\n",
    "\n",
    "count = 0\n",
    "for i in wordl:\n",
    "    if len(i) >= 2 and i[0] == i[-1]:\n",
    "        count += 1\n",
    "print(\"count of the strings:\",count)"
   ]
  },
  {
   "cell_type": "markdown",
   "id": "7d336406-dfab-461f-bfc7-5e26171ef78b",
   "metadata": {},
   "source": [
    "### 32)Write a Python program to remove duplicates from a list."
   ]
  },
  {
   "cell_type": "code",
   "execution_count": 37,
   "id": "393bb18d-8fa7-4c54-a640-6de2c96c9108",
   "metadata": {},
   "outputs": [
    {
     "name": "stdout",
     "output_type": "stream",
     "text": [
      "['abba', 'yyy', 'alexa', 1, 2, 'yyy', 'alexa', 'steve']\n"
     ]
    },
    {
     "data": {
      "text/plain": [
       "['abba', 1, 2, 'yyy', 'alexa', 'steve']"
      ]
     },
     "execution_count": 37,
     "metadata": {},
     "output_type": "execute_result"
    }
   ],
   "source": [
    "lst = [\"abba\",\"yyy\",\"alexa\",1, 2,\"yyy\",\"alexa\",\"steve\"]\n",
    "print(lst)\n",
    "for i in lst:\n",
    "    count = 0\n",
    "    for j in lst:\n",
    "        if i == j:\n",
    "            count += 1\n",
    "    if count > 1:\n",
    "        lst.remove(i)\n",
    "lst"
   ]
  },
  {
   "cell_type": "markdown",
   "id": "a1ff4926-4fbf-4a72-ad85-53c0e4588388",
   "metadata": {},
   "source": [
    "### 33)Write a Python program to check a list is empty or not"
   ]
  },
  {
   "cell_type": "code",
   "execution_count": null,
   "id": "129920c3-dff9-42d2-b9d7-37ea26b9cfb5",
   "metadata": {},
   "outputs": [],
   "source": [
    "lst = []\n",
    "if len(lst) == 0:\n",
    "    print(\"the list is empty.\")\n",
    "else: \n",
    "    print(\"the list is not empty\")"
   ]
  },
  {
   "cell_type": "markdown",
   "id": "2f25befb-1460-40f9-bd67-807174ab8027",
   "metadata": {},
   "source": [
    "### 34) Write a Python function that takes two lists and returns true if they have at least one common member. "
   ]
  },
  {
   "cell_type": "code",
   "execution_count": null,
   "id": "315daede-8d2e-45c8-a5b5-f12d9be9603d",
   "metadata": {},
   "outputs": [],
   "source": [
    "lst1 = [\"abba\",\"yyy\",\"alexa\",1,2,\"yyy\",\"alexa\",\"steve\"]\n",
    "lst2 = [\"abc\",\"yyy\",\"alexa\",\"sam\",\"wow\"]\n",
    "result = 'false'\n",
    "for i in lst1:\n",
    "    for j in lst2:\n",
    "        if i == j:\n",
    "            result = 'true'\n",
    "            \n",
    "print(\"the result is\",result)"
   ]
  },
  {
   "cell_type": "markdown",
   "id": "cd31de59-f0ef-474c-a42a-b279abd42709",
   "metadata": {},
   "source": [
    "### 35) Write a Python program to generate and print a list of first and last 5 elements where the values are square of numbers between 1 and 30."
   ]
  },
  {
   "cell_type": "code",
   "execution_count": null,
   "id": "8fc18642-3f3a-438f-938c-19802501c671",
   "metadata": {},
   "outputs": [],
   "source": [
    "lst = [ x**2 for x in range (1,31)]\n",
    "\n",
    "print(\"first 5 elements:\",lst[:5])\n",
    "print(\"last 5 elements:\",lst[-5:])"
   ]
  },
  {
   "cell_type": "markdown",
   "id": "599c4d21-7b6d-49db-b3a2-70a4eda9786e",
   "metadata": {},
   "source": [
    "### 36) Write a Python function that takes a list and returns a new list with unique elements of the first list. \n"
   ]
  },
  {
   "cell_type": "code",
   "execution_count": null,
   "id": "08a2d44c-2e1d-4d12-bea5-6f763260ef29",
   "metadata": {},
   "outputs": [],
   "source": [
    "lst = [1,2,3,5,8,6,7,8,3,6,2,3]\n",
    "\n",
    "newlst = []\n",
    "for item in lst:\n",
    "    if item not in newlst:\n",
    "        newlst.append(item)\n",
    "\n",
    "print(\"Unique list:\", newlst)"
   ]
  },
  {
   "cell_type": "markdown",
   "id": "ee042a41-374c-4b07-9294-a221541107a6",
   "metadata": {},
   "source": [
    "### 37)Write a Python program to convert a list of characters into a string. \n"
   ]
  },
  {
   "cell_type": "code",
   "execution_count": null,
   "id": "dc56b2ba-f2c5-41dd-b125-6f479d6397e3",
   "metadata": {},
   "outputs": [],
   "source": [
    "lst = [\"h\",\"e\",\"l\",\"l\",\"o\",\" \",\"w\",\"o\",\"r\",\"l\",\"d\"]\n",
    "\n",
    "string = \"\"\n",
    "\n",
    "for i in lst:\n",
    "    string += i\n",
    "\n",
    "print(\"string :\",string)"
   ]
  },
  {
   "cell_type": "markdown",
   "id": "78eae563-e717-4cbb-8c24-4949c1affdb8",
   "metadata": {},
   "source": [
    "### 38)Write a Python program to select an item randomly from a list. \n"
   ]
  },
  {
   "cell_type": "code",
   "execution_count": null,
   "id": "2370d7e4-1a58-4a74-a607-b5aa59c40730",
   "metadata": {},
   "outputs": [],
   "source": [
    "import random \n",
    "\n",
    "lst = [\"abba\",1,2,\"yyy\",\"alexa\",\"steve\",\"wow\"]\n",
    "\n",
    "ranitem = random.choice(lst)\n",
    "\n",
    "print(\"The random selected item:\",ranitem)"
   ]
  },
  {
   "cell_type": "markdown",
   "id": "0a402801-b9ff-44dd-ac40-2e3317f701c0",
   "metadata": {},
   "source": [
    "### 39)Write a Python program to find the second smallest number in a list. \n"
   ]
  },
  {
   "cell_type": "code",
   "execution_count": null,
   "id": "a594e2d9-555f-4ca0-b98a-7c4d7c1e8e2f",
   "metadata": {},
   "outputs": [],
   "source": [
    "lst = [1,3,5,8,6,7,8,3,6,3]\n",
    "\n",
    "sort_lst = sorted(set(lst))\n",
    "\n",
    "print(\"Second smallest number:\",sort_lst[1])"
   ]
  },
  {
   "cell_type": "markdown",
   "id": "667c1d3d-f971-4b2c-b845-7d5435ae552f",
   "metadata": {},
   "source": [
    "### 40)Write a Python program to get unique values from a list \n"
   ]
  },
  {
   "cell_type": "code",
   "execution_count": null,
   "id": "606cb314-827e-4857-b650-f62bcd1e3303",
   "metadata": {},
   "outputs": [],
   "source": [
    "lst = [1,3,5,8,6,7,8,3,6,2,3]\n",
    "\n",
    "unique_values = []\n",
    "for item in lst:\n",
    "    if item not in unique_values:\n",
    "        unique_values.append(item)\n",
    "\n",
    "print(\"Unique values:\", unique_values)"
   ]
  },
  {
   "cell_type": "markdown",
   "id": "40353715-7a2f-4a64-8b4e-330528739f88",
   "metadata": {},
   "source": [
    "### 41)Write a Python program to check whether a list contains a sub list \n"
   ]
  },
  {
   "cell_type": "code",
   "execution_count": null,
   "id": "c1e76a50-63d1-4d59-a906-63b3cebf2e6e",
   "metadata": {},
   "outputs": [],
   "source": [
    "lst = [1,3,5,8,6,7,8,3,6,2,3]\n",
    "\n",
    "sub_lst = [6,7,8]\n",
    "\n",
    "print(\"Result:\",str(sub_lst)[1:-1] in str(lst))    "
   ]
  },
  {
   "cell_type": "markdown",
   "id": "83071feb-420e-4309-8e84-54251fbdb191",
   "metadata": {},
   "source": [
    "### 42)Write a Python program to split a list into different variables. \n"
   ]
  },
  {
   "cell_type": "code",
   "execution_count": null,
   "id": "340bd06f-cefe-45e4-9ccf-1f55c5c697fa",
   "metadata": {},
   "outputs": [],
   "source": [
    "num = int(input(\"How many element in list:\"))\n",
    "lst = []\n",
    "for i in range(1,num+1):\n",
    "    elem = input(f\"enter the element {i}\")\n",
    "    lst.append(elem)\n",
    "print(\"list:\",lst)\n",
    "\n",
    "a = 0\n",
    "for j in range(0,num):\n",
    "    a += 1\n",
    "    print(f\"var{a} = \",lst[j])"
   ]
  },
  {
   "cell_type": "markdown",
   "id": "3693952f-676e-48db-b8f1-f5abcf4fecf9",
   "metadata": {},
   "source": [
    "### 43)What is tuple? Difference between list and tuple. "
   ]
  },
  {
   "cell_type": "markdown",
   "id": "1befa25c-7c70-4af6-ab18-3420f1f53edf",
   "metadata": {},
   "source": [
    "A tuple is a collection of elements that are ordered and cannot be changed.\n",
    "\n",
    "List is Mutable and Tuple is not (Cannot update an element, insert and delete elements) \n",
    "Tuples are faster because of read only nature. Memory can be efficiently allocated and used for tuples."
   ]
  },
  {
   "cell_type": "markdown",
   "id": "726a53cf-5c7d-455d-aa85-7b542e25c2ed",
   "metadata": {},
   "source": [
    "### 44)Write a Python program to create a tuple with different data types."
   ]
  },
  {
   "cell_type": "code",
   "execution_count": null,
   "id": "5f5a17a3-42c4-409c-b3a3-4ca41352576a",
   "metadata": {},
   "outputs": [],
   "source": [
    "tup = (25,\"Hello\",3.14,True,[1, 2, 3])\n",
    "print(tup)"
   ]
  },
  {
   "cell_type": "markdown",
   "id": "e35bda43-dd61-4e7e-a33a-3030da832173",
   "metadata": {},
   "source": [
    "### 45)Write a Python program to unzip a list of tuples into individual lists."
   ]
  },
  {
   "cell_type": "code",
   "execution_count": 49,
   "id": "3b915b04-2eb1-4213-a105-f16c39d4dc30",
   "metadata": {},
   "outputs": [
    {
     "name": "stdout",
     "output_type": "stream",
     "text": [
      "List 1: [1, 2, 3, 4, 5]\n",
      "List 2: [6, 7, 8, 9, 10]\n"
     ]
    }
   ],
   "source": [
    "lst = [(1,2,3,4,5),(6,7,8,9,10)]\n",
    "\n",
    "lst1,lst2 = lst\n",
    "lst1 = list(lst1)\n",
    "lst2 = list(lst2)\n",
    "print(\"List 1:\", lst1)\n",
    "print(\"List 2:\", lst2)"
   ]
  },
  {
   "cell_type": "markdown",
   "id": "9ba47079-4afa-4076-9f06-a33b6d360a3a",
   "metadata": {},
   "source": [
    "### 46)Write a Python program to convert a list of tuples into a dictionary."
   ]
  },
  {
   "cell_type": "code",
   "execution_count": 51,
   "id": "924eb0a6-633e-48a2-9a61-d888165c70a9",
   "metadata": {},
   "outputs": [
    {
     "name": "stdout",
     "output_type": "stream",
     "text": [
      "New dictionary: {1: 'abba', 2: 'yyy', 3: 'alexa', 4: 'steve', 5: 'wow'}\n"
     ]
    }
   ],
   "source": [
    "lst = [(1,2,3,4,5),(\"abba\",\"yyy\",\"alexa\",\"steve\",\"wow\")]\n",
    "\n",
    "key, value = lst\n",
    "dict1 = {}\n",
    "for i in range(len(key)):\n",
    "        dict1[key[i]] = value[i]\n",
    "\n",
    "print(\"New dictionary:\",dict1)"
   ]
  },
  {
   "cell_type": "markdown",
   "id": "9036a60f-4507-4d28-8ce2-ccd77e2f6474",
   "metadata": {},
   "source": [
    "### 47)How will you create a dictionary using tuples in python? "
   ]
  },
  {
   "cell_type": "code",
   "execution_count": null,
   "id": "7da9fb71-5963-4837-abc1-0194a70ac612",
   "metadata": {},
   "outputs": [],
   "source": [
    "tup = ((1,\"abba\"),(2,\"yyy\"),(3,\"alexa\"))\n",
    "\n",
    "newdict = {}\n",
    "for key,value in tup:\n",
    "    newdict[key] = value\n",
    "print(newdict)"
   ]
  },
  {
   "cell_type": "markdown",
   "id": "cab34e6c-0e21-4c9c-a0f1-29c8f99ba5a6",
   "metadata": {},
   "source": [
    "### 48)Write a Python script to sort (ascending and descending) a dictionary by value. "
   ]
  },
  {
   "cell_type": "code",
   "execution_count": 53,
   "id": "558365f2-d392-47af-b08e-27a5911e59ac",
   "metadata": {},
   "outputs": [
    {
     "name": "stdout",
     "output_type": "stream",
     "text": [
      "Dictionary: {1: 'abba', 2: 'yyy', 3: 'alexa', 4: 'steve', 5: 'wow'}\n",
      "Ascending Order: {1: 'abba', 3: 'alexa', 4: 'steve', 5: 'wow', 2: 'yyy'}\n",
      "Descending Order: {2: 'yyy', 5: 'wow', 4: 'steve', 3: 'alexa', 1: 'abba'}\n"
     ]
    }
   ],
   "source": [
    "dict1 = {1: 'abba', 2: 'yyy', 3: 'alexa', 4: 'steve', 5: 'wow'}\n",
    "asc_sort = dict(sorted(dict1.items(), key=lambda x: x[1]))\n",
    "desc_sort = dict(sorted(dict1.items(), key=lambda x: x[1], reverse=True))\n",
    "print(\"Dictionary:\", dict1)\n",
    "print(\"Ascending Order:\", asc_sort)\n",
    "print(\"Descending Order:\", desc_sort)"
   ]
  },
  {
   "cell_type": "markdown",
   "id": "9875f985-91f0-48ab-a847-73c648bbbe1a",
   "metadata": {},
   "source": [
    "### 49)Write a Python script to concatenate following dictionaries to create a new one. "
   ]
  },
  {
   "cell_type": "code",
   "execution_count": null,
   "id": "2627b25f-1fea-4528-99e8-65e745d1c112",
   "metadata": {},
   "outputs": [],
   "source": [
    "dict1 = {'a': 1, 'b': 2}\n",
    "dict2 = {'c': 3, 'd': 4}\n",
    "dict3 = {'e': 5, 'f': 6}\n",
    "new_dict = {}\n",
    "for d in (dict1,dict2,dict3):\n",
    "    new_dict.update(d)\n",
    "print(\"Concatenate dictionary:\",new_dict)"
   ]
  },
  {
   "cell_type": "markdown",
   "id": "c71fd914-1313-4710-b5fe-36ca9b65d552",
   "metadata": {},
   "source": [
    "### 50)Write a Python script to check if a given key already exists in a dictionary. "
   ]
  },
  {
   "cell_type": "code",
   "execution_count": null,
   "id": "83fcf2f3-1460-4ec1-8166-38dbded7bba7",
   "metadata": {},
   "outputs": [],
   "source": [
    "dict = {'a': 1, 'b': 2, 'c': 3}\n",
    "key = input(\"Enter the key to check: \")\n",
    "\n",
    "if key in dict:\n",
    "    print(f\"The key '{key}' exists in the dictionary with value {dict[key]}.\")\n",
    "else:\n",
    "    print(f\"The key '{key}' does not exist in the dictionary.\")"
   ]
  },
  {
   "cell_type": "markdown",
   "id": "f4aec61e-46b7-486f-961d-ac3e26b21438",
   "metadata": {},
   "source": [
    "### 51)How Do You Traverse Through a Dictionary Object in Python? "
   ]
  },
  {
   "cell_type": "code",
   "execution_count": null,
   "id": "34f35d32-8f5e-42c5-ae1f-cce197e83f10",
   "metadata": {},
   "outputs": [],
   "source": [
    "dict1 = {'a': 1, 'b': 2, 'c': 3}\n",
    "\n",
    "for key,value in dict1.items():\n",
    "    print(\"key:\",key,\", value:\",value)"
   ]
  },
  {
   "cell_type": "markdown",
   "id": "3cc06d21-8b83-48b4-ac06-ff892373055d",
   "metadata": {},
   "source": [
    "### 52)How Do You Check the Presence of a Key in A Dictionary? "
   ]
  },
  {
   "cell_type": "code",
   "execution_count": null,
   "id": "1f5b2a37-4787-4ef7-8152-80d0e9f36b7d",
   "metadata": {},
   "outputs": [],
   "source": [
    "dict1 = {'a': 1, 'b': 2, 'c': 3, 'd': 4, 'e': 5, 'f': 6}\n",
    "key = input(\"enter the key:\")\n",
    "if key in dict1:\n",
    "    print(f\"The key '{key}' exists in the dictionary with value {dict1[key]}.\")\n",
    "else:\n",
    "    print(f\"The key '{key}' does not exist in the dictionary.\")"
   ]
  },
  {
   "cell_type": "markdown",
   "id": "f85f7024-9a41-4dad-96db-6e918bf3468a",
   "metadata": {},
   "source": [
    "### 53)Write a Python script to print a dictionary where the keys are numbers between 1 and 15.  "
   ]
  },
  {
   "cell_type": "code",
   "execution_count": null,
   "id": "203bfb5a-7a76-45aa-ad4f-1a5729b259db",
   "metadata": {},
   "outputs": [],
   "source": [
    "dict = {x: x**2 for x in range(1, 16)}\n",
    "\n",
    "print(\"Dictionary with keys 1 to 15 and values:\")\n",
    "print(dict)"
   ]
  },
  {
   "cell_type": "markdown",
   "id": "86753adc-44c5-4a62-b8b1-b9f400b31b30",
   "metadata": {},
   "source": [
    "### 54) Write a Python program to check multiple keys exists in a dictionary"
   ]
  },
  {
   "cell_type": "code",
   "execution_count": null,
   "id": "6e5d4b1d-d5cb-45d7-9be6-86e2541c8651",
   "metadata": {},
   "outputs": [],
   "source": [
    "dict1 = {'a': 1, 'b': 2, 'c': 3, 'd': 4, 'e': 5, 'f': 6}\n",
    "\n",
    "keys_to_check = {'a', 'b', 'g'}\n",
    "if keys_to_check.issubset(dict1.keys()):\n",
    "    print(\"All keys exist in the dictionary.\")\n",
    "else:\n",
    "    print(\"Some keys are missing.\")"
   ]
  },
  {
   "cell_type": "markdown",
   "id": "cfaa34e6-a0e3-493f-88a8-68c26ee1ddfd",
   "metadata": {},
   "source": [
    "### 55)Write a Python script to merge two Python dictionaries "
   ]
  },
  {
   "cell_type": "code",
   "execution_count": null,
   "id": "6e0bdb36-36e8-466a-aadb-c7dcacb6cd81",
   "metadata": {},
   "outputs": [],
   "source": [
    "dict1 = {'a': 1, 'b': 2}\n",
    "dict2 = {'c': 3, 'd': 4}\n",
    "\n",
    "new_dict = dict1.copy()\n",
    "new_dict.update(dict2)\n",
    "print(new_dict)"
   ]
  },
  {
   "cell_type": "markdown",
   "id": "1a4d9adc-70f2-43fe-84b7-25dd4f23ac0c",
   "metadata": {},
   "source": [
    "### 56)Write a Python program to map two lists into a dictionary "
   ]
  },
  {
   "cell_type": "code",
   "execution_count": null,
   "id": "6f5d319e-d0a8-4398-b997-bd208a62de78",
   "metadata": {},
   "outputs": [],
   "source": [
    "lst1 = [\"a\",\"b\",\"d\",\"c\"]\n",
    "lst2 = [400,400,400,300]\n",
    "\n",
    "dict1 = {}\n",
    "for i in range(len(lst1)):\n",
    "        dict1[lst1[i]] = lst2[i]\n",
    "\n",
    "print(\"New dictionary:\",dict1)"
   ]
  },
  {
   "cell_type": "markdown",
   "id": "5e532671-b656-4c33-9d85-652a6aaf6a95",
   "metadata": {},
   "source": [
    "### 57)Write a Python program to find the highest 3 values in a dictionary"
   ]
  },
  {
   "cell_type": "code",
   "execution_count": null,
   "id": "c251aa30-7acb-4a3d-b54d-f39ded13954b",
   "metadata": {},
   "outputs": [],
   "source": [
    "dict1 = {'a': 1, 'b': 2, 'c': 3, 'd': 4, 'e': 5, 'f': 6}\n",
    "highest_value = sorted(dict1.values(), reverse =True)\n",
    "print(\"highest 3 values:\",highest_value[:3])"
   ]
  },
  {
   "cell_type": "markdown",
   "id": "9889a5a6-dd9a-49f3-82c3-9df4911ceaef",
   "metadata": {},
   "source": [
    "### 58)Write a Python program to combine values in python list of dictionaries. \n",
    "Sample data: [{'item': 'item1', 'amount': 400}, {'item': 'item2', 'amount': \n",
    "300}, o {'item': 'item1', 'amount': 750}] \n",
    "Expected Output: • Counter ({'item1': 1150, 'item2': 300})\n"
   ]
  },
  {
   "cell_type": "code",
   "execution_count": null,
   "id": "6f985b24-ce01-42c9-9ddb-773a301e6fe9",
   "metadata": {},
   "outputs": [],
   "source": [
    "from collections import Counter\n",
    "data = [{'item': 'item1', 'amount': 400},{'item': 'item2', 'amount': 300},{'item': 'item1', 'amount': 750}]\n",
    "result = Counter()\n",
    "for entry in data:\n",
    "    result[entry['item']] += entry['amount']\n",
    "    \n",
    "print(\"Combined Values:\", result)"
   ]
  },
  {
   "cell_type": "markdown",
   "id": "4c564ccc-a9cd-41ae-b04a-c2a9bdc8f2fe",
   "metadata": {},
   "source": [
    "### 59)Write a Python program to create a dictionary from a string. Note: Track the count of the letters from the string. "
   ]
  },
  {
   "cell_type": "code",
   "execution_count": null,
   "id": "7c2d67de-4c15-417f-ae9a-2084f9285270",
   "metadata": {},
   "outputs": [],
   "source": [
    "text = input(\"enter the text\")\n",
    "char_count = {}\n",
    "for char in text:\n",
    "    char_count[char] = char_count.get(char, 0) + 1\n",
    "\n",
    "print(\"Dictionary:\", char_count)"
   ]
  },
  {
   "cell_type": "markdown",
   "id": "7a0dc1ef-48f8-4396-a27e-e703934e211c",
   "metadata": {},
   "source": [
    "### 60)Sample string:'w3resource' Expected output: • {'3': 1,’s’: 1, 'r': 2, 'u': 1, 'w': 1, 'c': 1, 'e': 2, 'o': 1}"
   ]
  },
  {
   "cell_type": "code",
   "execution_count": 55,
   "id": "e7fb685f-aeee-412a-b42b-f981bf656fe7",
   "metadata": {},
   "outputs": [
    {
     "name": "stdout",
     "output_type": "stream",
     "text": [
      "Dictionary: {'w': 1, '3': 1, 'r': 2, 'e': 2, 's': 1, 'o': 1, 'u': 1, 'c': 1}\n"
     ]
    }
   ],
   "source": [
    "text = \"w3resource\"\n",
    "char_count = {}\n",
    "for char in text:\n",
    "    char_count[char] = char_count.get(char, 0) + 1\n",
    "\n",
    "print(\"Dictionary:\", char_count)"
   ]
  },
  {
   "cell_type": "markdown",
   "id": "b70abbe0-380a-479a-925f-e6f992e19e5c",
   "metadata": {},
   "source": [
    "### 61)Write a Python function to calculate the factorial of a number (a nonnegative integer) "
   ]
  },
  {
   "cell_type": "code",
   "execution_count": 59,
   "id": "f231f8a9-844a-4703-b3aa-64ac871ffa42",
   "metadata": {},
   "outputs": [
    {
     "name": "stdout",
     "output_type": "stream",
     "text": [
      "Factorial of 5 is 120\n"
     ]
    }
   ],
   "source": [
    "def factorial(n):\n",
    "    result = 1\n",
    "    for i in range(2,n + 1):\n",
    "        result *= i\n",
    "    return result\n",
    "    \n",
    "print(\"Factorial of\",num,\"is\", factorial(5))"
   ]
  },
  {
   "cell_type": "markdown",
   "id": "a8cc6492-706f-4a27-a0f1-c1e5073498d5",
   "metadata": {},
   "source": [
    "### 62)Write a Python function to check whether a number is in a given range "
   ]
  },
  {
   "cell_type": "code",
   "execution_count": null,
   "id": "8d213b88-41dd-4bd3-8e12-d207dda2f62e",
   "metadata": {},
   "outputs": [],
   "source": [
    "def check(n):\n",
    "    if n in range(10,101):\n",
    "        print(f\"{n} is in the range.\")\n",
    "    else:\n",
    "        print(\"The number is outside the given range.\")\n",
    "\n",
    "num = int(input(\"Enter a number:\"))\n",
    "check(num)"
   ]
  },
  {
   "cell_type": "markdown",
   "id": "ea6f3840-bbc8-4f00-9aca-ffbd7e02e4cd",
   "metadata": {},
   "source": [
    "### 63)Write a Python function to check whether a number is perfect or not"
   ]
  },
  {
   "cell_type": "code",
   "execution_count": null,
   "id": "b772a6a6-b762-48e5-8d1e-1dd9e89bafd4",
   "metadata": {},
   "outputs": [],
   "source": [
    "def perfectnum(n):\n",
    "    if n < 1:\n",
    "        return False  \n",
    "    divisors_sum = sum(i for i in range(1,n) if n % i == 0)\n",
    "    return divisors_sum == n\n",
    "    \n",
    "num = 28\n",
    "if perfectnum(num):\n",
    "    print(f\"{num} is a Perfect Number.\")\n",
    "else:\n",
    "    print(f\"{num} is not a Perfect Number.\")"
   ]
  },
  {
   "cell_type": "markdown",
   "id": "ce50d1ec-9d00-4d5a-8a2f-8238c23ca3df",
   "metadata": {},
   "source": [
    "### 64)Write a Python function that checks whether a passed string is palindrome or not "
   ]
  },
  {
   "cell_type": "code",
   "execution_count": null,
   "id": "2b018c3e-d9c8-4069-8cd0-31ad022ac65f",
   "metadata": {},
   "outputs": [],
   "source": [
    "def palindrome(str):\n",
    "    if str == str[::-1]:\n",
    "        print(\"string is palindrome\")\n",
    "    else:\n",
    "        print(\"string is not palindrome\")\n",
    "\n",
    "word = input(\"enter a word:\")\n",
    "palindrome(word)        "
   ]
  },
  {
   "cell_type": "markdown",
   "id": "024022c3-db90-4139-8dc8-4eee7fcfad75",
   "metadata": {},
   "source": [
    "### 65)How Many Basic Types of Functions Are Available in Python?"
   ]
  },
  {
   "cell_type": "markdown",
   "id": "6ae9c467-770d-4102-aa8c-1963a048733c",
   "metadata": {},
   "source": [
    "There are two types of function in python\n",
    "1. Built-in function\n",
    "2. user-defined function"
   ]
  },
  {
   "cell_type": "markdown",
   "id": "b708f3ac-375a-49a7-943f-940a872dfc42",
   "metadata": {},
   "source": [
    "### 66)How can you pick a random item from a list or tuple?"
   ]
  },
  {
   "cell_type": "markdown",
   "id": "1afef7dc-6b32-4eb5-9e1f-6e6ae4e46506",
   "metadata": {},
   "source": [
    "The random.choice() method returns a randomly selected element from the specified sequence. The sequence can be a string, a range, a list, a tuple or any other kind of sequence."
   ]
  },
  {
   "cell_type": "markdown",
   "id": "8b2d41f2-1b3a-4be7-ae3c-3b1b092fc33f",
   "metadata": {},
   "source": [
    "### 67)How can you pick a random item from a range? "
   ]
  },
  {
   "cell_type": "code",
   "execution_count": null,
   "id": "5c823655-9f83-4928-b9b2-b2a4c97258a8",
   "metadata": {},
   "outputs": [],
   "source": [
    "import random\n",
    "r = range(1,101)\n",
    "print(random.choice(r))"
   ]
  },
  {
   "cell_type": "markdown",
   "id": "cd7eb502-5159-481c-a758-5085bb243995",
   "metadata": {},
   "source": [
    "### 68.How can you get a random number in python?"
   ]
  },
  {
   "cell_type": "code",
   "execution_count": null,
   "id": "6c15eeb4-5753-4bd8-ac09-347e9ca9a71e",
   "metadata": {},
   "outputs": [],
   "source": [
    "import random\n",
    "num = random.random()\n",
    "print(num)"
   ]
  },
  {
   "cell_type": "markdown",
   "id": "98b19941-d993-4b47-b4b2-d045bc6b3772",
   "metadata": {},
   "source": [
    "### 69)How will you set the starting value in generating random numbers? "
   ]
  },
  {
   "cell_type": "markdown",
   "id": "122d1cf5-cd0f-46cd-aee0-31ce7d39be7e",
   "metadata": {},
   "source": [
    "In Python, you can set the starting value (seed) for generating random numbers using the random.seed() function. This ensures that the random numbers are reproducible across different runs."
   ]
  },
  {
   "cell_type": "markdown",
   "id": "6b29e7c3-b375-4935-883e-08859c689204",
   "metadata": {},
   "source": [
    "### 70) How will you randomize the items of a list in place? "
   ]
  },
  {
   "cell_type": "code",
   "execution_count": null,
   "id": "e83b3335-7616-44aa-880e-f9728412cfa5",
   "metadata": {},
   "outputs": [],
   "source": [
    "import random \n",
    "lst = [\"abba\",1,2,\"yyy\",\"alexa\",\"steve\",\"wow\"]\n",
    "random.shuffle(lst)\n",
    "print(lst)"
   ]
  },
  {
   "cell_type": "markdown",
   "id": "ff031b52-f730-4c01-aeea-f9d9a26e53b4",
   "metadata": {},
   "source": [
    "### 71)What is File function in python? What are keywords to create and write file. "
   ]
  },
  {
   "cell_type": "markdown",
   "id": "563f72bc-2b82-4b3c-9a85-0febb28012c4",
   "metadata": {},
   "source": [
    "A file is data stored in a storage device. a python program can talk to the file by reading content from it and writing content to it.\n",
    "In Python, the keywords to create and write to a file are:\n",
    "1. open(): Used to open a file in a specific mode (read, write, append, etc.).\n",
    "2. with: A statement that ensures the file is closed automatically after you're done with it.\n",
    "3. \"w\": The mode used to open a file for writing. It will create a new file if it doesn't exist, or overwrite an existing file.\n",
    "4. \"x\": The mode used to create a new file. It will raise an error if the file already exists.\n",
    "5. \"a\": The mode used to append data to an existing file.\n",
    "6. write(): A method to write data to the opened file.\n",
    "7. writelines(): A method to write multiple lines to the opened file."
   ]
  },
  {
   "cell_type": "markdown",
   "id": "a5957d82-8e1d-493c-9eb3-8ce83d6db9b4",
   "metadata": {},
   "source": [
    "### 72)Write a Python program to read an entire text file. "
   ]
  },
  {
   "cell_type": "code",
   "execution_count": null,
   "id": "62a7bdaa-e188-4ff2-81aa-0eb6cf37675e",
   "metadata": {},
   "outputs": [],
   "source": [
    "f = open(\"ravi.txt\",\"r\")\n",
    "read = f.read()\n",
    "print(read)\n",
    "f.close()"
   ]
  },
  {
   "cell_type": "markdown",
   "id": "e755fd07-7b70-40e2-9a5c-e51878527394",
   "metadata": {},
   "source": [
    "### 73)Write a Python program to append text to a file and display the text"
   ]
  },
  {
   "cell_type": "code",
   "execution_count": null,
   "id": "4373a610-b3c7-494d-9bd2-bbbaa4e25816",
   "metadata": {},
   "outputs": [],
   "source": [
    "f = open(\"ravi.txt\",\"a\")\n",
    "text = f.write(\"\\nThis is a file. \")\n",
    "f.close()\n",
    "f = open(\"ravi.txt\",\"r\")\n",
    "read = f.read()\n",
    "print(read)\n",
    "f.close()"
   ]
  },
  {
   "cell_type": "markdown",
   "id": "cb11af5d-21d5-4775-a520-a0c1759284f9",
   "metadata": {},
   "source": [
    "### 74)Write a Python program to read first n lines of a file."
   ]
  },
  {
   "cell_type": "code",
   "execution_count": 377,
   "id": "cb317b8a-930f-44a0-8c11-ac1af553d143",
   "metadata": {},
   "outputs": [
    {
     "name": "stdin",
     "output_type": "stream",
     "text": [
      "Enter the number of lines: 8\n"
     ]
    },
    {
     "name": "stdout",
     "output_type": "stream",
     "text": [
      "Hello! My Name is Ravi.\n",
      "This is a file. \n",
      "This is a file. \n",
      "This is a file. \n"
     ]
    }
   ],
   "source": [
    "num = int(input(\"Enter the number of lines:\"))\n",
    "f = open(\"ravi.txt\",\"r\")\n",
    "for i in range(num):\n",
    "    text = f.readline()\n",
    "    print(text,end=\"\")\n",
    "f.close() "
   ]
  },
  {
   "cell_type": "markdown",
   "id": "9c7e4522-f02d-47c0-81b0-19255170ee61",
   "metadata": {},
   "source": [
    "### 75)Write a Python program to read last n lines of a file"
   ]
  },
  {
   "cell_type": "code",
   "execution_count": 398,
   "id": "e2fcff9f-0dda-410e-80f2-51035ef19026",
   "metadata": {},
   "outputs": [
    {
     "name": "stdin",
     "output_type": "stream",
     "text": [
      "Enter the number of lines of the end: 2\n"
     ]
    },
    {
     "name": "stdout",
     "output_type": "stream",
     "text": [
      "This is a file. \n",
      "This is a file. \n"
     ]
    }
   ],
   "source": [
    "num = int(input(\"Enter the number of lines of the end:\"))\n",
    "f = open(\"ravi.txt\",'r') \n",
    "lines = f.readlines()\n",
    "if len(lines) <= num:\n",
    "    for line in lines:\n",
    "        print(line, end='')\n",
    "else:\n",
    "    for line in lines[-num:]:\n",
    "        print(line, end='')"
   ]
  },
  {
   "cell_type": "markdown",
   "id": "29a0cd93-0f3b-428c-a6c6-12763d17c075",
   "metadata": {},
   "source": [
    "### 76)Write a Python program to read a file line by line and store it into a list "
   ]
  },
  {
   "cell_type": "code",
   "execution_count": 410,
   "id": "7beb2fb1-d2fc-46f4-8bf7-1ea7c98fa4d7",
   "metadata": {},
   "outputs": [
    {
     "name": "stdout",
     "output_type": "stream",
     "text": [
      "['Hello! My Name is Ravi.\\n', 'This is a file. \\n', 'This is a file. \\n', 'This is a file. \\n']\n"
     ]
    }
   ],
   "source": [
    "f = open(\"ravi.txt\",'r') \n",
    "lines = f.readlines()\n",
    "f.close()\n",
    "\n",
    "print(lines)"
   ]
  },
  {
   "cell_type": "markdown",
   "id": "acb4cbbe-01f3-4147-ba08-22954253f5e4",
   "metadata": {},
   "source": [
    "### 77)Write a Python program to read a file line by line store it into a variable. \n"
   ]
  },
  {
   "cell_type": "code",
   "execution_count": 420,
   "id": "5aae84dd-2a44-408b-9089-3ac6964d6e28",
   "metadata": {},
   "outputs": [
    {
     "name": "stdout",
     "output_type": "stream",
     "text": [
      "Contents of the file: Hello! My Name is Ravi.\n",
      "This is a file. \n",
      "This is a file. \n",
      "This is a file. \n",
      "\n"
     ]
    }
   ],
   "source": [
    "f = open(\"ravi.txt\",'r') \n",
    "lines = f.readlines()\n",
    "var = \"\"\n",
    "for line in lines:\n",
    "    var += line\n",
    "print(f\"Contents of the file: {var}\")"
   ]
  },
  {
   "cell_type": "markdown",
   "id": "f60335ce-eb4d-4091-8fd0-d321aefa28d9",
   "metadata": {},
   "source": [
    "### 78)Write a python program to find the longest words. \n"
   ]
  },
  {
   "cell_type": "code",
   "execution_count": null,
   "id": "ea255d36-222e-433b-9497-3285f25da125",
   "metadata": {},
   "outputs": [],
   "source": [
    "words = input(\"enter the sentence:\").split()\n",
    "max_len = max(len(word) for word in words)\n",
    "long_word = [word for word in words if len(word) == max_len]\n",
    "print(\"The longest word:\",long_word)    "
   ]
  },
  {
   "cell_type": "markdown",
   "id": "68aeb2d0-c6b9-467f-b069-e2148efd7b0a",
   "metadata": {},
   "source": [
    "### 79)Write a Python program to count the number of lines in a text file. \n"
   ]
  },
  {
   "cell_type": "code",
   "execution_count": null,
   "id": "31240001-0c45-4363-bb86-e4609854e576",
   "metadata": {},
   "outputs": [],
   "source": [
    "with open(\"ravi.txt\",'r') as file:\n",
    "    lines = file.readlines()\n",
    "    count = len(lines)\n",
    "print(f\"The file 'ravi.txt' contains {count} line(s).\")"
   ]
  },
  {
   "cell_type": "markdown",
   "id": "40b079f4-18da-4a77-a755-18b5e9a42496",
   "metadata": {},
   "source": [
    "### 80)Write a Python program to count the frequency of words in a file. \n"
   ]
  },
  {
   "cell_type": "code",
   "execution_count": 463,
   "id": "214af27d-9893-435c-b199-dac2ee72f82d",
   "metadata": {},
   "outputs": [
    {
     "name": "stdout",
     "output_type": "stream",
     "text": [
      "'hello': 1\n",
      "'my': 1\n",
      "'name': 1\n",
      "'is': 4\n",
      "'ravi': 1\n",
      "'this': 3\n",
      "'a': 3\n",
      "'file': 3\n"
     ]
    }
   ],
   "source": [
    "with open(\"ravi.txt\",'r') as f:\n",
    "    content = f.read()\n",
    "content = content.lower()\n",
    "\n",
    "for char in \".,!?;:'\\\"()[]{}\":\n",
    "    content = content.replace(char, ' ')\n",
    "words = content.split()\n",
    "\n",
    "word_count = {}\n",
    "for word in words:\n",
    "    if word in word_count:\n",
    "        word_count[word] += 1\n",
    "    else:\n",
    "        word_count[word] = 1\n",
    "        \n",
    "for word, count in word_count.items():\n",
    "    print(f\"'{word}': {count}\")"
   ]
  },
  {
   "cell_type": "markdown",
   "id": "9216afab-a383-4ae1-8c21-f02499ea3cf9",
   "metadata": {},
   "source": [
    "### 81)Write a Python program to write a list to a file. \n"
   ]
  },
  {
   "cell_type": "code",
   "execution_count": 499,
   "id": "9de8ce2d-27de-4359-b88c-6f6977fbb8cf",
   "metadata": {},
   "outputs": [
    {
     "name": "stdout",
     "output_type": "stream",
     "text": [
      "List written to file successfully!\n"
     ]
    }
   ],
   "source": [
    "lst = [\"this \",\"is \",\"python \",\"program. \"]\n",
    "with open(\"newfile.txt\",\"w\") as file:\n",
    "    file.writelines(lst)\n",
    "print(\"List written to file successfully!\")"
   ]
  },
  {
   "cell_type": "markdown",
   "id": "1740b328-758b-41df-b8e2-5fd1b06dc751",
   "metadata": {},
   "source": [
    "### 82)Write a Python program to copy the contents of a file to another file. \n"
   ]
  },
  {
   "cell_type": "code",
   "execution_count": 497,
   "id": "613ce9ae-8121-49f2-8273-023c441b4f86",
   "metadata": {},
   "outputs": [
    {
     "name": "stdout",
     "output_type": "stream",
     "text": [
      "Contents copied successfully.\n"
     ]
    }
   ],
   "source": [
    "source = open(\"ravi.txt\",\"r\")\n",
    "dest = open(\"newfile.txt\",\"w\")\n",
    "\n",
    "dest.write(source.read())\n",
    "\n",
    "dest.close()\n",
    "source.close()\n",
    "print(\"Contents copied successfully.\")\n",
    "\n",
    "file = open(\"newfile.txt\",\"r\") \n",
    "r = file.read()\n",
    "print(r)"
   ]
  },
  {
   "cell_type": "markdown",
   "id": "61fcefcd-39d3-4570-bea5-4bfe0e4045ee",
   "metadata": {},
   "source": [
    "### 83) Explain Exception handling? What is an Error in Python?"
   ]
  },
  {
   "cell_type": "markdown",
   "id": "12812a99-9f76-4f0e-99c6-53eff9568bc4",
   "metadata": {},
   "source": [
    "In Python, exception handling is a mechanism for gracefully dealing with errors that occur during the execution of a program. \n",
    "An error in Python is an issue that prevents the program from completing its task."
   ]
  },
  {
   "cell_type": "markdown",
   "id": "8f202175-910c-49ed-af4c-4a9b512b7bba",
   "metadata": {},
   "source": [
    "### 84) How many except statements can a try-except block have? NameSome built-in exception classes:"
   ]
  },
  {
   "cell_type": "markdown",
   "id": "5a17bf22-bef6-46f2-af8f-1ad493e6b1c9",
   "metadata": {},
   "source": [
    "A try block can have multiple except statements to handle different types of exceptions. There is no strict limit to the number of except blocks, but they should handle specific exception types effectively.\n",
    "ArithmeticError:- Base class for errors in arithmetic operations. ZeroDivisionError:- Raised when dividing by zero. OverflowError:- Raised when a numeric operation exceeds limits. AttributeError:- Raised when an attribute reference or assignment fails. EOFError:- Raised when input() reaches end-of-file condition. FileNotFoundError:- Raised when a file or directory is requested but not found. IndexError:- Raised when accessing an invalid index of a sequence (e.g., list or tuple). KeyError:- Raised when a dictionary key is not found. NameError:- Raised when a variable or name is not defined. TypeError:- Raised when an operation or function is applied to an object of inappropriate type. ValueError:- Raised when an operation receives an argument of the right type but inappropriate value. ImportError:- Raised when an import statement fails."
   ]
  },
  {
   "cell_type": "markdown",
   "id": "727be79d-de90-423a-aade-e42c54b00618",
   "metadata": {},
   "source": [
    "### 85)When will the else part of try-except-else be executed? "
   ]
  },
  {
   "cell_type": "markdown",
   "id": "9cc55f56-63dd-4a31-85da-f016ed0244aa",
   "metadata": {},
   "source": [
    "The 'else' block is executed when there are no exceptions raised within the try block. The 'else' block is useful when you want to perform specific actions when no exceptions occur. It can be used, for example, to execute additional code if the 'try' block succeeds in its operation and enhances the program flow."
   ]
  },
  {
   "cell_type": "markdown",
   "id": "7049dd87-6032-4bc7-b4fc-d18a75fa863b",
   "metadata": {},
   "source": [
    "### 86) Can one block of except statements handle multiple exception?"
   ]
  },
  {
   "cell_type": "markdown",
   "id": "ecd71392-1a7c-4d02-97a2-e8c99d06dc62",
   "metadata": {},
   "source": [
    "Yes, multiple exceptions can be handled in a single except block in Python"
   ]
  },
  {
   "cell_type": "markdown",
   "id": "a4db81cc-08f0-40c0-a07c-0a1d5d0bd42b",
   "metadata": {},
   "source": [
    "### 87)When is the finally block executed?"
   ]
  },
  {
   "cell_type": "markdown",
   "id": "2b2bb287-24be-4519-8700-ca511615728e",
   "metadata": {},
   "source": [
    "A finally block is executed when the try block exits, regardless of whether an exception occurs"
   ]
  },
  {
   "cell_type": "markdown",
   "id": "e314e30b-c2ef-4eaf-962d-a800b00e4cfe",
   "metadata": {},
   "source": [
    "### 88) What happens when „1‟== 1 is executed?"
   ]
  },
  {
   "cell_type": "code",
   "execution_count": 520,
   "id": "85eb9de5-3301-48ec-83ec-9ef9b48186f1",
   "metadata": {},
   "outputs": [
    {
     "data": {
      "text/plain": [
       "False"
      ]
     },
     "execution_count": 520,
     "metadata": {},
     "output_type": "execute_result"
    }
   ],
   "source": [
    "\"1\" == 1\n",
    "# it returns 'False'"
   ]
  },
  {
   "cell_type": "markdown",
   "id": "49b4e82e-31e2-4bb2-9e59-b2392aee8a66",
   "metadata": {},
   "source": [
    "### 89)How Do You Handle Exceptions with Try/Except/Finally in Python? Explain with coding snippets."
   ]
  },
  {
   "cell_type": "markdown",
   "id": "1933ff72-d66c-4d9f-9cfb-ab8ceebbf435",
   "metadata": {},
   "source": [
    "1. Try: This block will test the excepted error to occur\n",
    "2. Except: Here you can handle the error\n",
    "3. Finally: Finally block always gets executed either exception is generated or not"
   ]
  },
  {
   "cell_type": "markdown",
   "id": "7cbb31a2-1b9e-478e-9ca3-f5b28e92c8dc",
   "metadata": {},
   "source": [
    "### 90) Write python program that user to enter only odd numbers, else will raise an exception."
   ]
  },
  {
   "cell_type": "code",
   "execution_count": 532,
   "id": "2e517afb-b4ca-40f4-82f9-4943a92e39ff",
   "metadata": {},
   "outputs": [
    {
     "name": "stdin",
     "output_type": "stream",
     "text": [
      "Enter an odd number:  .\n"
     ]
    },
    {
     "name": "stdout",
     "output_type": "stream",
     "text": [
      "invalid literal for int() with base 10: '.'\n"
     ]
    }
   ],
   "source": [
    "def prompt_odd_number():\n",
    "    try:\n",
    "        num = int(input(\"Enter an odd number: \"))\n",
    "        if num % 2 == 0:\n",
    "            raise ValueError(\"The entered number is not an odd number.\")\n",
    "        print(f\"Good job! You entered an odd number: {num}\")\n",
    "    except ValueError as e:\n",
    "        print(e)\n",
    "        \n",
    "prompt_odd_number()"
   ]
  }
 ],
 "metadata": {
  "kernelspec": {
   "display_name": "Python 3 (ipykernel)",
   "language": "python",
   "name": "python3"
  },
  "language_info": {
   "codemirror_mode": {
    "name": "ipython",
    "version": 3
   },
   "file_extension": ".py",
   "mimetype": "text/x-python",
   "name": "python",
   "nbconvert_exporter": "python",
   "pygments_lexer": "ipython3",
   "version": "3.12.7"
  }
 },
 "nbformat": 4,
 "nbformat_minor": 5
}
